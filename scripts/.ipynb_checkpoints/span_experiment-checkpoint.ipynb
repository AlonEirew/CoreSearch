{
 "cells": [
  {
   "cell_type": "markdown",
   "metadata": {
    "pycharm": {
     "name": "#%% md\n"
    }
   },
   "source": [
    "Loading Files"
   ]
  },
  {
   "cell_type": "code",
   "execution_count": 2,
   "metadata": {
    "pycharm": {
     "name": "#%%\n"
    }
   },
   "outputs": [
    {
     "name": "stderr",
     "output_type": "stream",
     "text": [
      "Reading Train Exp: 100%|████████████████████████████████████████████████████████████████████████████████████████████████████████████████████████████████████████████████████████████████████████████████████████████████████████████████| 341/341 [00:00<00:00, 106394.23it/s]\n",
      "Reading passages: 100%|███████████████████████████████████████████████████████████████████████████████████████████████████████████████████████████████████████████████████████████████████████████████████████████████████████████████| 3689/3689 [00:00<00:00, 314922.81it/s]"
     ]
    },
    {
     "name": "stdout",
     "output_type": "stream",
     "text": [
      "Do\n"
     ]
    },
    {
     "name": "stderr",
     "output_type": "stream",
     "text": [
      "\n"
     ]
    }
   ],
   "source": [
    "from src.utils import io_utils\n",
    "from src.data_obj import TrainExample, Passage\n",
    "from typing import List\n",
    "\n",
    "queries_file = \"../data/resources/train/Dev_training_queries.json\"\n",
    "passages_file = \"../data/resources/train/Dev_training_passages.json\"\n",
    "gold_cluster_file = \"../data/resources/WEC-ES/Dev_gold_clusters.json\"\n",
    "\n",
    "query_examples: List[TrainExample] = io_utils.read_train_example_file(queries_file)\n",
    "passage_examples: List[Passage] = io_utils.read_passages_file(passages_file)\n",
    "\n",
    "passage_dict = {obj.id: obj for obj in passage_examples}\n",
    "\n",
    "for query in query_examples:\n",
    "    for pass_id in query.positive_examples:\n",
    "        query.answers.add(\" \".join(passage_dict[pass_id].mention))\n",
    "\n",
    "print(\"Done\")"
   ]
  },
  {
   "cell_type": "markdown",
   "metadata": {
    "pycharm": {
     "name": "#%% md\n"
    }
   },
   "source": [
    "Preparing and Evaluating Spans"
   ]
  },
  {
   "cell_type": "code",
   "execution_count": null,
   "metadata": {
    "pycharm": {
     "name": "#%%\n"
    }
   },
   "outputs": [],
   "source": [
    "for query in query_examples:\n",
    "    for pass_id in query.positive_examples:\n",
    "        \n"
   ]
  }
 ],
 "metadata": {
  "kernelspec": {
   "display_name": "Python 3 (ipykernel)",
   "language": "python",
   "name": "python3"
  },
  "language_info": {
   "codemirror_mode": {
    "name": "ipython",
    "version": 3
   },
   "file_extension": ".py",
   "mimetype": "text/x-python",
   "name": "python",
   "nbconvert_exporter": "python",
   "pygments_lexer": "ipython3",
   "version": "3.8.12"
  }
 },
 "nbformat": 4,
 "nbformat_minor": 1
}
